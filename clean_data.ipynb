{
 "cells": [
  {
   "cell_type": "code",
   "execution_count": 1,
   "id": "959e7765",
   "metadata": {},
   "outputs": [],
   "source": [
    "import requests, random, tqdm\n",
    "import pandas as pd\n",
    "from bs4 import BeautifulSoup\n",
    "random.seed(42)"
   ]
  },
  {
   "cell_type": "code",
   "execution_count": 2,
   "id": "6a721b61",
   "metadata": {},
   "outputs": [
    {
     "name": "stdout",
     "output_type": "stream",
     "text": [
      "old (1220, 5)\n",
      "new (141, 5)\n"
     ]
    },
    {
     "data": {
      "text/html": [
       "<div>\n",
       "<style scoped>\n",
       "    .dataframe tbody tr th:only-of-type {\n",
       "        vertical-align: middle;\n",
       "    }\n",
       "\n",
       "    .dataframe tbody tr th {\n",
       "        vertical-align: top;\n",
       "    }\n",
       "\n",
       "    .dataframe thead th {\n",
       "        text-align: right;\n",
       "    }\n",
       "</style>\n",
       "<table border=\"1\" class=\"dataframe\">\n",
       "  <thead>\n",
       "    <tr style=\"text-align: right;\">\n",
       "      <th></th>\n",
       "      <th>name</th>\n",
       "      <th>country</th>\n",
       "      <th>institution</th>\n",
       "      <th>dblp</th>\n",
       "      <th>expertise</th>\n",
       "    </tr>\n",
       "  </thead>\n",
       "  <tbody>\n",
       "    <tr>\n",
       "      <th>0</th>\n",
       "      <td>abolfazl asudeh</td>\n",
       "      <td>united states</td>\n",
       "      <td>university of illinois at chicago</td>\n",
       "      <td>https://dblp.org/pid/04/7892.html</td>\n",
       "      <td>NaN</td>\n",
       "    </tr>\n",
       "    <tr>\n",
       "      <th>1</th>\n",
       "      <td>alfons kemper</td>\n",
       "      <td>germany</td>\n",
       "      <td>technical university of munich</td>\n",
       "      <td>https://dblp.org/pid/k/AlfonsKemper.html</td>\n",
       "      <td>NaN</td>\n",
       "    </tr>\n",
       "    <tr>\n",
       "      <th>2</th>\n",
       "      <td>alon halevy</td>\n",
       "      <td>united states</td>\n",
       "      <td>facebook</td>\n",
       "      <td>https://dblp.uni-trier.de/pers/h/Halevy:Alon_Y...</td>\n",
       "      <td>NaN</td>\n",
       "    </tr>\n",
       "    <tr>\n",
       "      <th>3</th>\n",
       "      <td>amit awekar</td>\n",
       "      <td>india</td>\n",
       "      <td>iit g</td>\n",
       "      <td>https://dblp.org/pid/136/7882.html</td>\n",
       "      <td>NaN</td>\n",
       "    </tr>\n",
       "    <tr>\n",
       "      <th>4</th>\n",
       "      <td>anirban dasgupta</td>\n",
       "      <td>india</td>\n",
       "      <td>iit gandhinagar</td>\n",
       "      <td>https://dblp.org/pid/54/385-1.html</td>\n",
       "      <td>NaN</td>\n",
       "    </tr>\n",
       "  </tbody>\n",
       "</table>\n",
       "</div>"
      ],
      "text/plain": [
       "               name        country                        institution  \\\n",
       "0   abolfazl asudeh  united states  university of illinois at chicago   \n",
       "1     alfons kemper        germany     technical university of munich   \n",
       "2       alon halevy  united states                           facebook   \n",
       "3       amit awekar          india                              iit g   \n",
       "4  anirban dasgupta          india                    iit gandhinagar   \n",
       "\n",
       "                                                dblp  expertise  \n",
       "0                  https://dblp.org/pid/04/7892.html        NaN  \n",
       "1           https://dblp.org/pid/k/AlfonsKemper.html        NaN  \n",
       "2  https://dblp.uni-trier.de/pers/h/Halevy:Alon_Y...        NaN  \n",
       "3                 https://dblp.org/pid/136/7882.html        NaN  \n",
       "4                 https://dblp.org/pid/54/385-1.html        NaN  "
      ]
     },
     "execution_count": 2,
     "metadata": {},
     "output_type": "execute_result"
    }
   ],
   "source": [
    "df = pd.read_excel('DataScientists.xls')\n",
    "print('old', df.shape)\n",
    "df = df[df.dblp.duplicated(keep='last')].sort_values(by=['name']).reset_index(drop=True)\n",
    "print('new', df.shape)\n",
    "df.head()"
   ]
  },
  {
   "cell_type": "code",
   "execution_count": 3,
   "id": "51520620",
   "metadata": {},
   "outputs": [],
   "source": [
    "def get_links(node_url):\n",
    "    '''node_url: url of node person\n",
    "       returns: set of people linked to person\n",
    "    '''\n",
    "    soup = BeautifulSoup(requests.get(node_url).content, 'html5lib')\n",
    "    name = [component.text.strip() for component in soup.find('span', attrs={'class': 'name primary'})][0]\n",
    "    links = {para.text.strip() for para in soup.find_all('span', attrs={'itemprop': 'author'})}\n",
    "    links.remove(name)\n",
    "    links = ','.join(sorted(list(links)))\n",
    "    return dict(name=name, links=links)"
   ]
  },
  {
   "cell_type": "code",
   "execution_count": 4,
   "id": "165ebfee",
   "metadata": {
    "scrolled": true
   },
   "outputs": [
    {
     "name": "stderr",
     "output_type": "stream",
     "text": [
      "100%|███████████████████████████████████████████████████████████████████████████████████████████████████████████████████████████████████████████████████████| 141/141 [07:37<00:00,  3.25s/it]\n"
     ]
    }
   ],
   "source": [
    "clean_df = dict(name=[], country=[], institution=[], links=[], expertise=[])\n",
    "with tqdm.tqdm(total=len(df)) as pbar:\n",
    "    for _, row in df.iterrows():\n",
    "        _, country, institution, node_url, _ = row.values\n",
    "        data = get_links(node_url)\n",
    "        clean_df['name'].append(data['name'])\n",
    "        clean_df['links'].append(data['links'])\n",
    "        clean_df['country'].append(country)\n",
    "        clean_df['institution'].append(institution)\n",
    "        clean_df['expertise'].append(random.randint(1, 10))\n",
    "        pbar.update(1)"
   ]
  },
  {
   "cell_type": "code",
   "execution_count": 5,
   "id": "da2030d1",
   "metadata": {},
   "outputs": [
    {
     "data": {
      "text/html": [
       "<div>\n",
       "<style scoped>\n",
       "    .dataframe tbody tr th:only-of-type {\n",
       "        vertical-align: middle;\n",
       "    }\n",
       "\n",
       "    .dataframe tbody tr th {\n",
       "        vertical-align: top;\n",
       "    }\n",
       "\n",
       "    .dataframe thead th {\n",
       "        text-align: right;\n",
       "    }\n",
       "</style>\n",
       "<table border=\"1\" class=\"dataframe\">\n",
       "  <thead>\n",
       "    <tr style=\"text-align: right;\">\n",
       "      <th></th>\n",
       "      <th>name</th>\n",
       "      <th>country</th>\n",
       "      <th>institution</th>\n",
       "      <th>links</th>\n",
       "      <th>expertise</th>\n",
       "    </tr>\n",
       "  </thead>\n",
       "  <tbody>\n",
       "    <tr>\n",
       "      <th>0</th>\n",
       "      <td>Abolfazl Asudeh</td>\n",
       "      <td>united states</td>\n",
       "      <td>university of illinois at chicago</td>\n",
       "      <td>Ali Jaoua,Ali Movaghar,Anastasios Sidiropoulos...</td>\n",
       "      <td>2</td>\n",
       "    </tr>\n",
       "    <tr>\n",
       "      <th>1</th>\n",
       "      <td>Alfons Kemper</td>\n",
       "      <td>germany</td>\n",
       "      <td>technical university of munich</td>\n",
       "      <td>Adrian Vogelsgesang,Alex Kulikov,Alexander Bei...</td>\n",
       "      <td>1</td>\n",
       "    </tr>\n",
       "    <tr>\n",
       "      <th>2</th>\n",
       "      <td>Alon Y. Halevy</td>\n",
       "      <td>united states</td>\n",
       "      <td>facebook</td>\n",
       "      <td>Aaron Feng,Abraham Silberschatz,Ada Wai-Chee F...</td>\n",
       "      <td>5</td>\n",
       "    </tr>\n",
       "    <tr>\n",
       "      <th>3</th>\n",
       "      <td>Amit Awekar</td>\n",
       "      <td>india</td>\n",
       "      <td>iit g</td>\n",
       "      <td>Abhinav Anshuman,Abhishek,Abhishek Abhishek,Ak...</td>\n",
       "      <td>4</td>\n",
       "    </tr>\n",
       "    <tr>\n",
       "      <th>4</th>\n",
       "      <td>Anirban Dasgupta</td>\n",
       "      <td>india</td>\n",
       "      <td>iit gandhinagar</td>\n",
       "      <td>Abhimanyu Das,Achint Oommen Thomas,Alexander J...</td>\n",
       "      <td>4</td>\n",
       "    </tr>\n",
       "  </tbody>\n",
       "</table>\n",
       "</div>"
      ],
      "text/plain": [
       "               name        country                        institution  \\\n",
       "0   Abolfazl Asudeh  united states  university of illinois at chicago   \n",
       "1     Alfons Kemper        germany     technical university of munich   \n",
       "2    Alon Y. Halevy  united states                           facebook   \n",
       "3       Amit Awekar          india                              iit g   \n",
       "4  Anirban Dasgupta          india                    iit gandhinagar   \n",
       "\n",
       "                                               links  expertise  \n",
       "0  Ali Jaoua,Ali Movaghar,Anastasios Sidiropoulos...          2  \n",
       "1  Adrian Vogelsgesang,Alex Kulikov,Alexander Bei...          1  \n",
       "2  Aaron Feng,Abraham Silberschatz,Ada Wai-Chee F...          5  \n",
       "3  Abhinav Anshuman,Abhishek,Abhishek Abhishek,Ak...          4  \n",
       "4  Abhimanyu Das,Achint Oommen Thomas,Alexander J...          4  "
      ]
     },
     "execution_count": 5,
     "metadata": {},
     "output_type": "execute_result"
    }
   ],
   "source": [
    "clean_df = pd.DataFrame.from_dict(clean_df)\n",
    "clean_df.head()"
   ]
  },
  {
   "cell_type": "code",
   "execution_count": 6,
   "id": "be5aa101",
   "metadata": {},
   "outputs": [],
   "source": [
    "clean_df.to_csv('clean.csv', index=False)"
   ]
  },
  {
   "cell_type": "code",
   "execution_count": null,
   "id": "eab609c8",
   "metadata": {},
   "outputs": [],
   "source": []
  }
 ],
 "metadata": {
  "kernelspec": {
   "display_name": "cz4071",
   "language": "python",
   "name": "cz4071"
  },
  "language_info": {
   "codemirror_mode": {
    "name": "ipython",
    "version": 3
   },
   "file_extension": ".py",
   "mimetype": "text/x-python",
   "name": "python",
   "nbconvert_exporter": "python",
   "pygments_lexer": "ipython3",
   "version": "3.9.7"
  }
 },
 "nbformat": 4,
 "nbformat_minor": 5
}
